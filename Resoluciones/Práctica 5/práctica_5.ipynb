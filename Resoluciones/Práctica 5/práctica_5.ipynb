{
 "cells": [
  {
   "cell_type": "markdown",
   "metadata": {},
   "source": [
    "## **Parte 1: Preguntas conceptuales**\n",
    "---\n",
    "\n",
    "**1.** Defina el concepto de hashing (o dispersión). ¿Cómo se relaciona este concepto con archivos?  \n",
    "- El hashing es una técnica utilizada para asignar claves a direcciones base única dentro de una estructura de almacenamiento utilizando una función de hash. Este método no requiere almacenamiento adicional, es decir que cuando se elige para la organización de archivos, es el archivo de datos el que resulta disperso. Esta dispersión se genera a partir de una clave primaria y el registro que contiene la información relacionada con la clave es ubicado en el espacio resultante de aplicar la función de hash. Esta técnica se usa cuando se requiere acceso rápido mediante una clave (la gran mayoría de las búsquedas serán satisfechas con un acceso) pero no provee un recorrido secuencial eficiente.\n",
    "\n",
    "---"
   ]
  },
  {
   "cell_type": "markdown",
   "metadata": {},
   "source": [
    "**2.** Explique el concepto de función de dispersión. Enumere al menos tres funciones de dispersión y explique brevemente cómo funciona cada una.\n",
    "- La función de dispersión o función de hash puede ser pensada como una caja nefra que recibe claves y devuelve direcciones de memoria. Una función de hash o dispersión es aquella que transforma la clave primaria de un registro en un valor (dentro de un determinado rango) que determinará la dirección física en la que insertar el registro dentro del archivo de datos. La misma debería ser capaz de designar posiciones de la manera más aleatoria y uniforme posible, tratando de disminuir la ocurrencia de colisiones.  \n",
    "\n",
    "**EJEMPLOS:**\n",
    "- Centros Cuadrados: Esta función selecciona un subconjunto de los dígitos centrales de la clave y los eleva al cuadrado para obtener la dirección. Por ejemplo, si la clave es 123456, se toma el 34, se eleva al cuadrado y se obtiene el valor 1156. Esta función es recomendable si las claves son grandes.\n",
    "- División: -\n",
    "- Desplazamiento: -\n",
    "\n",
    "---"
   ]
  },
  {
   "cell_type": "markdown",
   "metadata": {},
   "source": [
    "**3.** Explique los conceptos de sinónimo, colisión y desborde (overflow). ¿Qué condición es necesaria en el archivo directo para que pueda ocurrir una colisión y no un desborde?\n",
    "- Mientras que un desborde se produce cuando un registro es direccionado a un nodo que no dispone de capacidad para almacenarlo, una colisión se produce cuando el registro es direccionado a un nodo que no está vacío, es decir, que ya posee elementos almacenados pero no necesariamente está lleno. Todo desborde genera una colisión, pero no toda colisión desencadena en un desborde.\n",
    "\n",
    "---"
   ]
  },
  {
   "cell_type": "markdown",
   "metadata": {},
   "source": [
    "**4.** ¿Qué alternativas existen para reducir el número de colisiones (y por ende de desbordes) en un archivo organizado mediante la técnica de hashing?\n",
    "-  Para reducir el número de colisiones es necesario buscar una función de hash que sea aleatoria y uniforme en el mayor grado que sea posible, para así evitar que muchos registros se concentren en pocas direcciones. Por otra parte, también es importante tener en cuenta la DE, ya que si es demasiado alta va a generar una mayor cantidad de colisiones y desbordes. Sin embargo, es inevitable que las colisiones se produzcan en algún punto y puedan generar overflow, por lo que también es recomendable y necesario contar con algún método de reubicación de registros.\n",
    "\n",
    "---"
   ]
  },
  {
   "cell_type": "markdown",
   "metadata": {},
   "source": [
    "**5.** Explique brevemente qué es la densidad de empaquetamiento. ¿Cuáles son las consecuencias de tener una menor densidad de empaquetamiento en un archivo directo?\n",
    "-  La Densidad de empaquetamiento (DE) es la relación entre el espacio disponible para el archivo de datos y la cantidad de registros que integran dicho archivo.  Si la DE es menor la posibilidad de colisiones disminuye puesto que se dispone de mayor espacio para esparcir registros. Sin embargp, si la DE se mantiene baja también puede ser señal de que se está desperdiciando espacio en el disco, dado que se utiliza menos espacio que el reservado, generando fragmentación.\n",
    "\n",
    "---"
   ]
  },
  {
   "cell_type": "markdown",
   "metadata": {},
   "source": [
    "**6.** Explique brevemente cómo funcionan las siguientes técnicas de resolución de desbordes que se pueden utilizar en hashing estático.  \n",
    "\n",
    "● Saturación progresiva: Consiste en almacenar el registro que produjo el overflow en la dirección siguiente más próxima al nodo donde debía ser insertado.  \n",
    "● Saturación progresiva encadenada: En este caso, el registro también es almacenado en la siguiente dirección más próxima con espacio disponible pero, una vez localizada la nueva dirección, esta se encadena o enlaza con la dirección base inicial, generando una cadena de búsqueda de elementos.  \n",
    "● Saturación progresiva encadenada con área de desborde separada: Este método funciona al igual que la saturación progresiva encadenada, con la diferencia de que existen dos tipos de nodos. Por un lado están aquellos nodos direccionables por la función de hash y por el otro los de reserva, que solo podrán ser utilizados en caso de saturación. Ante la ocurrencia de overflow, los registros son dispersados en el nodo de reserva más próximo, el cual se encadena al nodo donde se produjo la saturación. En caso de que un registro produzca overflow en un nodo que ya fue encadenado, el mismo será ubicado en la dirección de ese enlace y, si el nodo de reserva está lleno, únicamente en ese caso se volverá a buscar otro nodo reservado (el más próximo) para realizar la inserción y el nuevo enlace.  \n",
    "● Dispersión doble: Esta técnica busca evitar el problema general de la saturación progresiva en el que, a medida que se producen saturaciones, los registros pueden esparcirse en nodos cercanos provocando zonas con exceso de saturación. Este método consiste en disponer de dos funciones de hash, donde la primera obtiene a partir de la clave la dirección base en la que será ubicado el registro y, en caso de producirse overflow, la segunda se utilizará para obtener un desplazamiento. Este desplazamiento se suma a la dirección base obtenida de la primera función y genera una nueva dirección donde se intentará ubicar al registro. En caso de generarse nuevamente overflow, se deberá sumar de manera reiterada el desplazamiento obtenido hasta encontrar una dirección con espacio suficiente.  \n",
    "\n",
    "---"
   ]
  }
 ],
 "metadata": {
  "language_info": {
   "name": "python"
  }
 },
 "nbformat": 4,
 "nbformat_minor": 2
}
